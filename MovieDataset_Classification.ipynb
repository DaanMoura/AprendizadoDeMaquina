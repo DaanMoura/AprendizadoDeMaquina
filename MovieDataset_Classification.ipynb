{
  "nbformat": 4,
  "nbformat_minor": 0,
  "metadata": {
    "colab": {
      "name": "MovieDataset-Classification.ipynb",
      "provenance": [],
      "collapsed_sections": [],
      "include_colab_link": true
    },
    "kernelspec": {
      "name": "python3",
      "display_name": "Python 3"
    }
  },
  "cells": [
    {
      "cell_type": "markdown",
      "metadata": {
        "id": "view-in-github",
        "colab_type": "text"
      },
      "source": [
        "<a href=\"https://colab.research.google.com/github/DaanMoura/AprendizadoDeMaquina/blob/main/MovieDataset_Classification.ipynb\" target=\"_parent\"><img src=\"https://colab.research.google.com/assets/colab-badge.svg\" alt=\"Open In Colab\"/></a>"
      ]
    },
    {
      "cell_type": "code",
      "metadata": {
        "id": "ZsPsBUwSgtk3"
      },
      "source": [
        "\n",
        "import pandas as pd\n",
        "import matplotlib.pyplot as plt\n",
        "import numpy as np\n",
        "from sklearn.tree import DecisionTreeClassifier\n",
        "from sklearn.model_selection import train_test_split\n",
        "from sklearn.metrics import accuracy_score\n",
        "import copy"
      ],
      "execution_count": 309,
      "outputs": []
    },
    {
      "cell_type": "code",
      "metadata": {
        "colab": {
          "base_uri": "https://localhost:8080/"
        },
        "id": "G7s5UtuVg9FW",
        "outputId": "9d1dbb35-f1cb-43cc-9de3-b511f7e95595"
      },
      "source": [
        "dataset = pd.read_csv(\"https://raw.githubusercontent.com/DaanMoura/AprendizadoDeMaquina/main/data/movies.csv\")"
      ],
      "execution_count": 310,
      "outputs": [
        {
          "output_type": "stream",
          "text": [
            "/usr/local/lib/python3.6/dist-packages/IPython/core/interactiveshell.py:2718: DtypeWarning: Columns (10) have mixed types.Specify dtype option on import or set low_memory=False.\n",
            "  interactivity=interactivity, compiler=compiler, result=result)\n"
          ],
          "name": "stderr"
        }
      ]
    },
    {
      "cell_type": "code",
      "metadata": {
        "id": "yXU7a7W9gEun"
      },
      "source": [
        "def get_date_year(date_column):\r\n",
        "  try:\r\n",
        "    return date_column.split('-')[0]\r\n",
        "  except:\r\n",
        "    return -1\r\n",
        "\r\n",
        "def get_date_month(date_column):\r\n",
        "  try:\r\n",
        "    return date_column.split('-')[1]\r\n",
        "  except:\r\n",
        "    return -1"
      ],
      "execution_count": 311,
      "outputs": []
    },
    {
      "cell_type": "code",
      "metadata": {
        "id": "RaX5XaW8f4JW"
      },
      "source": [
        "dataset['release_year'] = pd.Series(list(map(get_date_year, dataset[\"release_date\"].tolist())))\r\n",
        "dataset['release_month'] = pd.Series(list(map(get_date_month, dataset[\"release_date\"].tolist())))"
      ],
      "execution_count": 312,
      "outputs": []
    },
    {
      "cell_type": "code",
      "metadata": {
        "id": "ylw76dFpiQpL"
      },
      "source": [
        "dataset.drop([\"adult\", \"belongs_to_collection\", \"homepage\", \"id\", \"imdb_id\", \"original_title\", \"overview\", \"poster_path\", \"tagline\", \"title\", \"video\",\"spoken_languages\",\"release_date\"], axis=1,inplace=True)\n",
        "df = dataset.copy()"
      ],
      "execution_count": 313,
      "outputs": []
    },
    {
      "cell_type": "code",
      "metadata": {
        "id": "tPyoKI7ymTGB"
      },
      "source": [
        "def get_first(o):\n",
        "  try:\n",
        "    return o.split(',')[0].split(':')[1].strip().strip(\"'\")\n",
        "  except:\n",
        "    return -1\n",
        "  "
      ],
      "execution_count": 314,
      "outputs": []
    },
    {
      "cell_type": "code",
      "metadata": {
        "id": "h7YgvZ98krtC"
      },
      "source": [
        "def get_first_number(o):\r\n",
        "  try:\r\n",
        "    id = o.split(',')[0].split(':')[1].strip().strip(\"'\")\r\n",
        "    if str(id).isnumeric():\r\n",
        "      return id\r\n",
        "    else:\r\n",
        "      return -1\r\n",
        "  except:\r\n",
        "    return -1"
      ],
      "execution_count": 315,
      "outputs": []
    },
    {
      "cell_type": "code",
      "metadata": {
        "colab": {
          "base_uri": "https://localhost:8080/"
        },
        "id": "wCVprKXOjSfC",
        "outputId": "bcdb4416-ac10-4ff5-f110-722d704af6c5"
      },
      "source": [
        "pd.set_option('display.max_colwidth', -1)\n",
        "df[\"production_companies\"] = pd.Series(list(map(get_first, df[\"production_companies\"].tolist())))\n",
        "df[\"production_countries\"] = pd.Series(list(map(get_first, df[\"production_countries\"].tolist())))\n",
        "df[\"genres\"] = pd.Series(list(map(get_first_number, df[\"genres\"].tolist())))"
      ],
      "execution_count": 316,
      "outputs": [
        {
          "output_type": "stream",
          "text": [
            "/usr/local/lib/python3.6/dist-packages/ipykernel_launcher.py:1: FutureWarning: Passing a negative integer is deprecated in version 1.0 and will not be supported in future version. Instead, use None to not limit the column width.\n",
            "  \"\"\"Entry point for launching an IPython kernel.\n"
          ],
          "name": "stderr"
        }
      ]
    },
    {
      "cell_type": "code",
      "metadata": {
        "id": "jKQOwyKEVDIs"
      },
      "source": [
        "colunas = [\"original_language\",\"production_companies\",\"production_countries\"]"
      ],
      "execution_count": 317,
      "outputs": []
    },
    {
      "cell_type": "code",
      "metadata": {
        "id": "wnaFg3IzafLG"
      },
      "source": [
        "labels, levels = pd.factorize(df['production_companies'])"
      ],
      "execution_count": 318,
      "outputs": []
    },
    {
      "cell_type": "code",
      "metadata": {
        "id": "ihsjVZNmamZG"
      },
      "source": [
        "string_columns = ['original_language','production_companies','production_countries','status']\r\n",
        "\r\n",
        "for column in string_columns:\r\n",
        "  labels, levels = pd.factorize(df[column])\r\n",
        "  df[column] = labels"
      ],
      "execution_count": 319,
      "outputs": []
    },
    {
      "cell_type": "code",
      "metadata": {
        "id": "V8e8vfkpmypy"
      },
      "source": [
        "df = df.apply(pd.to_numeric, errors='coerce')\r\n",
        "df = df.fillna(-1)"
      ],
      "execution_count": 320,
      "outputs": []
    },
    {
      "cell_type": "code",
      "metadata": {
        "id": "YwKowDxui41h",
        "outputId": "44dfa926-19f3-42de-8156-66d203bc0e09",
        "colab": {
          "base_uri": "https://localhost:8080/"
        }
      },
      "source": [
        "#separa o alvo e os dados\r\n",
        "Y = df[\"vote_average\"]\r\n",
        "for i in range(len(Y)):\r\n",
        "  if Y[i] < 2:\r\n",
        "    Y[i] = \"Muito Ruim\"\r\n",
        "  elif Y[i] < 4:\r\n",
        "    Y[i] = \"Ruim\"\r\n",
        "  elif Y[i] < 6:\r\n",
        "    Y[i] = \"Mediano\"\r\n",
        "  elif Y[i] < 8:\r\n",
        "    Y[i] = \"Bom\"\r\n",
        "  else:\r\n",
        "    Y[i] = \"Muito Bom\"\r\n",
        "\r\n",
        "X = df.drop([\"vote_average\"], axis = 1)"
      ],
      "execution_count": 321,
      "outputs": [
        {
          "output_type": "stream",
          "text": [
            "/usr/local/lib/python3.6/dist-packages/ipykernel_launcher.py:11: SettingWithCopyWarning: \n",
            "A value is trying to be set on a copy of a slice from a DataFrame\n",
            "\n",
            "See the caveats in the documentation: https://pandas.pydata.org/pandas-docs/stable/user_guide/indexing.html#returning-a-view-versus-a-copy\n",
            "  # This is added back by InteractiveShellApp.init_path()\n",
            "/usr/local/lib/python3.6/dist-packages/pandas/core/indexing.py:670: SettingWithCopyWarning: \n",
            "A value is trying to be set on a copy of a slice from a DataFrame\n",
            "\n",
            "See the caveats in the documentation: https://pandas.pydata.org/pandas-docs/stable/user_guide/indexing.html#returning-a-view-versus-a-copy\n",
            "  iloc._setitem_with_indexer(indexer, value)\n",
            "/usr/local/lib/python3.6/dist-packages/ipykernel_launcher.py:9: SettingWithCopyWarning: \n",
            "A value is trying to be set on a copy of a slice from a DataFrame\n",
            "\n",
            "See the caveats in the documentation: https://pandas.pydata.org/pandas-docs/stable/user_guide/indexing.html#returning-a-view-versus-a-copy\n",
            "  if __name__ == '__main__':\n",
            "/usr/local/lib/python3.6/dist-packages/ipykernel_launcher.py:7: SettingWithCopyWarning: \n",
            "A value is trying to be set on a copy of a slice from a DataFrame\n",
            "\n",
            "See the caveats in the documentation: https://pandas.pydata.org/pandas-docs/stable/user_guide/indexing.html#returning-a-view-versus-a-copy\n",
            "  import sys\n",
            "/usr/local/lib/python3.6/dist-packages/ipykernel_launcher.py:13: SettingWithCopyWarning: \n",
            "A value is trying to be set on a copy of a slice from a DataFrame\n",
            "\n",
            "See the caveats in the documentation: https://pandas.pydata.org/pandas-docs/stable/user_guide/indexing.html#returning-a-view-versus-a-copy\n",
            "  del sys.path[0]\n",
            "/usr/local/lib/python3.6/dist-packages/ipykernel_launcher.py:5: SettingWithCopyWarning: \n",
            "A value is trying to be set on a copy of a slice from a DataFrame\n",
            "\n",
            "See the caveats in the documentation: https://pandas.pydata.org/pandas-docs/stable/user_guide/indexing.html#returning-a-view-versus-a-copy\n",
            "  \"\"\"\n"
          ],
          "name": "stderr"
        }
      ]
    },
    {
      "cell_type": "code",
      "metadata": {
        "id": "0KHjHT0qqSmz"
      },
      "source": [
        "#/zV8bHuSL6WXoD6FWogP9j4x80bL.jpg'\r\n",
        "dataset.drop([29503],axis=0,inplace=True)\r\n"
      ],
      "execution_count": 322,
      "outputs": []
    },
    {
      "cell_type": "code",
      "metadata": {
        "id": "UMB-V5jXiB3j"
      },
      "source": [
        "#separa em teste e treino\r\n",
        "x_tr, x_te, y_tr, y_te = train_test_split(X, Y, test_size = 0.2, random_state = 42)"
      ],
      "execution_count": 323,
      "outputs": []
    },
    {
      "cell_type": "code",
      "metadata": {
        "id": "DZ7TFX_yjQjz",
        "outputId": "08cf34b1-0dd0-4be5-e0ec-88de609f118c",
        "colab": {
          "base_uri": "https://localhost:8080/",
          "height": 435
        }
      },
      "source": [
        "x_tr"
      ],
      "execution_count": 324,
      "outputs": [
        {
          "output_type": "execute_result",
          "data": {
            "text/html": [
              "<div>\n",
              "<style scoped>\n",
              "    .dataframe tbody tr th:only-of-type {\n",
              "        vertical-align: middle;\n",
              "    }\n",
              "\n",
              "    .dataframe tbody tr th {\n",
              "        vertical-align: top;\n",
              "    }\n",
              "\n",
              "    .dataframe thead th {\n",
              "        text-align: right;\n",
              "    }\n",
              "</style>\n",
              "<table border=\"1\" class=\"dataframe\">\n",
              "  <thead>\n",
              "    <tr style=\"text-align: right;\">\n",
              "      <th></th>\n",
              "      <th>budget</th>\n",
              "      <th>genres</th>\n",
              "      <th>original_language</th>\n",
              "      <th>popularity</th>\n",
              "      <th>production_companies</th>\n",
              "      <th>production_countries</th>\n",
              "      <th>revenue</th>\n",
              "      <th>runtime</th>\n",
              "      <th>status</th>\n",
              "      <th>vote_count</th>\n",
              "      <th>release_year</th>\n",
              "      <th>release_month</th>\n",
              "    </tr>\n",
              "  </thead>\n",
              "  <tbody>\n",
              "    <tr>\n",
              "      <th>41712</th>\n",
              "      <td>0.0</td>\n",
              "      <td>18</td>\n",
              "      <td>0</td>\n",
              "      <td>1.664214</td>\n",
              "      <td>9804</td>\n",
              "      <td>0</td>\n",
              "      <td>0.0</td>\n",
              "      <td>100.0</td>\n",
              "      <td>0</td>\n",
              "      <td>21.0</td>\n",
              "      <td>2016</td>\n",
              "      <td>3</td>\n",
              "    </tr>\n",
              "    <tr>\n",
              "      <th>25646</th>\n",
              "      <td>8500000.0</td>\n",
              "      <td>10751</td>\n",
              "      <td>0</td>\n",
              "      <td>0.994222</td>\n",
              "      <td>34</td>\n",
              "      <td>9</td>\n",
              "      <td>0.0</td>\n",
              "      <td>90.0</td>\n",
              "      <td>0</td>\n",
              "      <td>17.0</td>\n",
              "      <td>2014</td>\n",
              "      <td>12</td>\n",
              "    </tr>\n",
              "    <tr>\n",
              "      <th>29596</th>\n",
              "      <td>0.0</td>\n",
              "      <td>36</td>\n",
              "      <td>0</td>\n",
              "      <td>7.046825</td>\n",
              "      <td>20</td>\n",
              "      <td>25</td>\n",
              "      <td>1822250.0</td>\n",
              "      <td>129.0</td>\n",
              "      <td>0</td>\n",
              "      <td>259.0</td>\n",
              "      <td>2014</td>\n",
              "      <td>10</td>\n",
              "    </tr>\n",
              "    <tr>\n",
              "      <th>4526</th>\n",
              "      <td>0.0</td>\n",
              "      <td>18</td>\n",
              "      <td>0</td>\n",
              "      <td>2.188691</td>\n",
              "      <td>1117</td>\n",
              "      <td>0</td>\n",
              "      <td>0.0</td>\n",
              "      <td>105.0</td>\n",
              "      <td>0</td>\n",
              "      <td>3.0</td>\n",
              "      <td>1989</td>\n",
              "      <td>8</td>\n",
              "    </tr>\n",
              "    <tr>\n",
              "      <th>41710</th>\n",
              "      <td>0.0</td>\n",
              "      <td>10749</td>\n",
              "      <td>0</td>\n",
              "      <td>0.126559</td>\n",
              "      <td>33</td>\n",
              "      <td>9</td>\n",
              "      <td>0.0</td>\n",
              "      <td>93.0</td>\n",
              "      <td>0</td>\n",
              "      <td>2.0</td>\n",
              "      <td>2015</td>\n",
              "      <td>1</td>\n",
              "    </tr>\n",
              "    <tr>\n",
              "      <th>...</th>\n",
              "      <td>...</td>\n",
              "      <td>...</td>\n",
              "      <td>...</td>\n",
              "      <td>...</td>\n",
              "      <td>...</td>\n",
              "      <td>...</td>\n",
              "      <td>...</td>\n",
              "      <td>...</td>\n",
              "      <td>...</td>\n",
              "      <td>...</td>\n",
              "      <td>...</td>\n",
              "      <td>...</td>\n",
              "    </tr>\n",
              "    <tr>\n",
              "      <th>11284</th>\n",
              "      <td>0.0</td>\n",
              "      <td>18</td>\n",
              "      <td>0</td>\n",
              "      <td>0.225313</td>\n",
              "      <td>33</td>\n",
              "      <td>9</td>\n",
              "      <td>0.0</td>\n",
              "      <td>118.0</td>\n",
              "      <td>0</td>\n",
              "      <td>4.0</td>\n",
              "      <td>1983</td>\n",
              "      <td>1</td>\n",
              "    </tr>\n",
              "    <tr>\n",
              "      <th>44732</th>\n",
              "      <td>0.0</td>\n",
              "      <td>16</td>\n",
              "      <td>0</td>\n",
              "      <td>0.002638</td>\n",
              "      <td>33</td>\n",
              "      <td>9</td>\n",
              "      <td>0.0</td>\n",
              "      <td>6.0</td>\n",
              "      <td>0</td>\n",
              "      <td>0.0</td>\n",
              "      <td>1916</td>\n",
              "      <td>10</td>\n",
              "    </tr>\n",
              "    <tr>\n",
              "      <th>38158</th>\n",
              "      <td>0.0</td>\n",
              "      <td>53</td>\n",
              "      <td>0</td>\n",
              "      <td>0.000026</td>\n",
              "      <td>2082</td>\n",
              "      <td>0</td>\n",
              "      <td>0.0</td>\n",
              "      <td>74.0</td>\n",
              "      <td>0</td>\n",
              "      <td>0.0</td>\n",
              "      <td>1974</td>\n",
              "      <td>3</td>\n",
              "    </tr>\n",
              "    <tr>\n",
              "      <th>860</th>\n",
              "      <td>0.0</td>\n",
              "      <td>18</td>\n",
              "      <td>0</td>\n",
              "      <td>0.978989</td>\n",
              "      <td>263</td>\n",
              "      <td>0</td>\n",
              "      <td>0.0</td>\n",
              "      <td>96.0</td>\n",
              "      <td>0</td>\n",
              "      <td>4.0</td>\n",
              "      <td>1998</td>\n",
              "      <td>10</td>\n",
              "    </tr>\n",
              "    <tr>\n",
              "      <th>15795</th>\n",
              "      <td>90000.0</td>\n",
              "      <td>9648</td>\n",
              "      <td>0</td>\n",
              "      <td>1.633103</td>\n",
              "      <td>3960</td>\n",
              "      <td>0</td>\n",
              "      <td>0.0</td>\n",
              "      <td>104.0</td>\n",
              "      <td>0</td>\n",
              "      <td>12.0</td>\n",
              "      <td>1972</td>\n",
              "      <td>5</td>\n",
              "    </tr>\n",
              "  </tbody>\n",
              "</table>\n",
              "<p>36372 rows × 12 columns</p>\n",
              "</div>"
            ],
            "text/plain": [
              "          budget  genres  ...  release_year  release_month\n",
              "41712  0.0        18      ...  2016          3            \n",
              "25646  8500000.0  10751   ...  2014          12           \n",
              "29596  0.0        36      ...  2014          10           \n",
              "4526   0.0        18      ...  1989          8            \n",
              "41710  0.0        10749   ...  2015          1            \n",
              "...    ...          ...   ...   ...         ..            \n",
              "11284  0.0        18      ...  1983          1            \n",
              "44732  0.0        16      ...  1916          10           \n",
              "38158  0.0        53      ...  1974          3            \n",
              "860    0.0        18      ...  1998          10           \n",
              "15795  90000.0    9648    ...  1972          5            \n",
              "\n",
              "[36372 rows x 12 columns]"
            ]
          },
          "metadata": {
            "tags": []
          },
          "execution_count": 324
        }
      ]
    },
    {
      "cell_type": "code",
      "metadata": {
        "id": "Y83eCS0soRFa",
        "outputId": "396d85a9-8863-4617-ac72-da2b31ab922c",
        "colab": {
          "base_uri": "https://localhost:8080/",
          "height": 435
        }
      },
      "source": [
        "x_tr"
      ],
      "execution_count": 325,
      "outputs": [
        {
          "output_type": "execute_result",
          "data": {
            "text/html": [
              "<div>\n",
              "<style scoped>\n",
              "    .dataframe tbody tr th:only-of-type {\n",
              "        vertical-align: middle;\n",
              "    }\n",
              "\n",
              "    .dataframe tbody tr th {\n",
              "        vertical-align: top;\n",
              "    }\n",
              "\n",
              "    .dataframe thead th {\n",
              "        text-align: right;\n",
              "    }\n",
              "</style>\n",
              "<table border=\"1\" class=\"dataframe\">\n",
              "  <thead>\n",
              "    <tr style=\"text-align: right;\">\n",
              "      <th></th>\n",
              "      <th>budget</th>\n",
              "      <th>genres</th>\n",
              "      <th>original_language</th>\n",
              "      <th>popularity</th>\n",
              "      <th>production_companies</th>\n",
              "      <th>production_countries</th>\n",
              "      <th>revenue</th>\n",
              "      <th>runtime</th>\n",
              "      <th>status</th>\n",
              "      <th>vote_count</th>\n",
              "      <th>release_year</th>\n",
              "      <th>release_month</th>\n",
              "    </tr>\n",
              "  </thead>\n",
              "  <tbody>\n",
              "    <tr>\n",
              "      <th>41712</th>\n",
              "      <td>0.0</td>\n",
              "      <td>18</td>\n",
              "      <td>0</td>\n",
              "      <td>1.664214</td>\n",
              "      <td>9804</td>\n",
              "      <td>0</td>\n",
              "      <td>0.0</td>\n",
              "      <td>100.0</td>\n",
              "      <td>0</td>\n",
              "      <td>21.0</td>\n",
              "      <td>2016</td>\n",
              "      <td>3</td>\n",
              "    </tr>\n",
              "    <tr>\n",
              "      <th>25646</th>\n",
              "      <td>8500000.0</td>\n",
              "      <td>10751</td>\n",
              "      <td>0</td>\n",
              "      <td>0.994222</td>\n",
              "      <td>34</td>\n",
              "      <td>9</td>\n",
              "      <td>0.0</td>\n",
              "      <td>90.0</td>\n",
              "      <td>0</td>\n",
              "      <td>17.0</td>\n",
              "      <td>2014</td>\n",
              "      <td>12</td>\n",
              "    </tr>\n",
              "    <tr>\n",
              "      <th>29596</th>\n",
              "      <td>0.0</td>\n",
              "      <td>36</td>\n",
              "      <td>0</td>\n",
              "      <td>7.046825</td>\n",
              "      <td>20</td>\n",
              "      <td>25</td>\n",
              "      <td>1822250.0</td>\n",
              "      <td>129.0</td>\n",
              "      <td>0</td>\n",
              "      <td>259.0</td>\n",
              "      <td>2014</td>\n",
              "      <td>10</td>\n",
              "    </tr>\n",
              "    <tr>\n",
              "      <th>4526</th>\n",
              "      <td>0.0</td>\n",
              "      <td>18</td>\n",
              "      <td>0</td>\n",
              "      <td>2.188691</td>\n",
              "      <td>1117</td>\n",
              "      <td>0</td>\n",
              "      <td>0.0</td>\n",
              "      <td>105.0</td>\n",
              "      <td>0</td>\n",
              "      <td>3.0</td>\n",
              "      <td>1989</td>\n",
              "      <td>8</td>\n",
              "    </tr>\n",
              "    <tr>\n",
              "      <th>41710</th>\n",
              "      <td>0.0</td>\n",
              "      <td>10749</td>\n",
              "      <td>0</td>\n",
              "      <td>0.126559</td>\n",
              "      <td>33</td>\n",
              "      <td>9</td>\n",
              "      <td>0.0</td>\n",
              "      <td>93.0</td>\n",
              "      <td>0</td>\n",
              "      <td>2.0</td>\n",
              "      <td>2015</td>\n",
              "      <td>1</td>\n",
              "    </tr>\n",
              "    <tr>\n",
              "      <th>...</th>\n",
              "      <td>...</td>\n",
              "      <td>...</td>\n",
              "      <td>...</td>\n",
              "      <td>...</td>\n",
              "      <td>...</td>\n",
              "      <td>...</td>\n",
              "      <td>...</td>\n",
              "      <td>...</td>\n",
              "      <td>...</td>\n",
              "      <td>...</td>\n",
              "      <td>...</td>\n",
              "      <td>...</td>\n",
              "    </tr>\n",
              "    <tr>\n",
              "      <th>11284</th>\n",
              "      <td>0.0</td>\n",
              "      <td>18</td>\n",
              "      <td>0</td>\n",
              "      <td>0.225313</td>\n",
              "      <td>33</td>\n",
              "      <td>9</td>\n",
              "      <td>0.0</td>\n",
              "      <td>118.0</td>\n",
              "      <td>0</td>\n",
              "      <td>4.0</td>\n",
              "      <td>1983</td>\n",
              "      <td>1</td>\n",
              "    </tr>\n",
              "    <tr>\n",
              "      <th>44732</th>\n",
              "      <td>0.0</td>\n",
              "      <td>16</td>\n",
              "      <td>0</td>\n",
              "      <td>0.002638</td>\n",
              "      <td>33</td>\n",
              "      <td>9</td>\n",
              "      <td>0.0</td>\n",
              "      <td>6.0</td>\n",
              "      <td>0</td>\n",
              "      <td>0.0</td>\n",
              "      <td>1916</td>\n",
              "      <td>10</td>\n",
              "    </tr>\n",
              "    <tr>\n",
              "      <th>38158</th>\n",
              "      <td>0.0</td>\n",
              "      <td>53</td>\n",
              "      <td>0</td>\n",
              "      <td>0.000026</td>\n",
              "      <td>2082</td>\n",
              "      <td>0</td>\n",
              "      <td>0.0</td>\n",
              "      <td>74.0</td>\n",
              "      <td>0</td>\n",
              "      <td>0.0</td>\n",
              "      <td>1974</td>\n",
              "      <td>3</td>\n",
              "    </tr>\n",
              "    <tr>\n",
              "      <th>860</th>\n",
              "      <td>0.0</td>\n",
              "      <td>18</td>\n",
              "      <td>0</td>\n",
              "      <td>0.978989</td>\n",
              "      <td>263</td>\n",
              "      <td>0</td>\n",
              "      <td>0.0</td>\n",
              "      <td>96.0</td>\n",
              "      <td>0</td>\n",
              "      <td>4.0</td>\n",
              "      <td>1998</td>\n",
              "      <td>10</td>\n",
              "    </tr>\n",
              "    <tr>\n",
              "      <th>15795</th>\n",
              "      <td>90000.0</td>\n",
              "      <td>9648</td>\n",
              "      <td>0</td>\n",
              "      <td>1.633103</td>\n",
              "      <td>3960</td>\n",
              "      <td>0</td>\n",
              "      <td>0.0</td>\n",
              "      <td>104.0</td>\n",
              "      <td>0</td>\n",
              "      <td>12.0</td>\n",
              "      <td>1972</td>\n",
              "      <td>5</td>\n",
              "    </tr>\n",
              "  </tbody>\n",
              "</table>\n",
              "<p>36372 rows × 12 columns</p>\n",
              "</div>"
            ],
            "text/plain": [
              "          budget  genres  ...  release_year  release_month\n",
              "41712  0.0        18      ...  2016          3            \n",
              "25646  8500000.0  10751   ...  2014          12           \n",
              "29596  0.0        36      ...  2014          10           \n",
              "4526   0.0        18      ...  1989          8            \n",
              "41710  0.0        10749   ...  2015          1            \n",
              "...    ...          ...   ...   ...         ..            \n",
              "11284  0.0        18      ...  1983          1            \n",
              "44732  0.0        16      ...  1916          10           \n",
              "38158  0.0        53      ...  1974          3            \n",
              "860    0.0        18      ...  1998          10           \n",
              "15795  90000.0    9648    ...  1972          5            \n",
              "\n",
              "[36372 rows x 12 columns]"
            ]
          },
          "metadata": {
            "tags": []
          },
          "execution_count": 325
        }
      ]
    },
    {
      "cell_type": "code",
      "metadata": {
        "id": "tvwVIpSIo3ZP",
        "outputId": "634a1949-79c1-46a6-f77b-ca071b96bd11",
        "colab": {
          "base_uri": "https://localhost:8080/"
        }
      },
      "source": [
        "y_tr"
      ],
      "execution_count": 326,
      "outputs": [
        {
          "output_type": "execute_result",
          "data": {
            "text/plain": [
              "41712    Mediano   \n",
              "25646    Mediano   \n",
              "29596    Bom       \n",
              "4526     Bom       \n",
              "41710    Muito Bom \n",
              "           ...     \n",
              "11284    Bom       \n",
              "44732    Muito Ruim\n",
              "38158    Muito Ruim\n",
              "860      Bom       \n",
              "15795    Mediano   \n",
              "Name: vote_average, Length: 36372, dtype: object"
            ]
          },
          "metadata": {
            "tags": []
          },
          "execution_count": 326
        }
      ]
    },
    {
      "cell_type": "code",
      "metadata": {
        "id": "WB3ZuzdLE1QI",
        "colab": {
          "base_uri": "https://localhost:8080/"
        },
        "outputId": "40268611-4448-45e9-dbcd-c92ef197111f"
      },
      "source": [
        "dtc = DecisionTreeClassifier()\n",
        "dtc\n",
        "dtc.fit(x_tr, y_tr)"
      ],
      "execution_count": 327,
      "outputs": [
        {
          "output_type": "execute_result",
          "data": {
            "text/plain": [
              "DecisionTreeClassifier(ccp_alpha=0.0, class_weight=None, criterion='gini',\n",
              "                       max_depth=None, max_features=None, max_leaf_nodes=None,\n",
              "                       min_impurity_decrease=0.0, min_impurity_split=None,\n",
              "                       min_samples_leaf=1, min_samples_split=2,\n",
              "                       min_weight_fraction_leaf=0.0, presort='deprecated',\n",
              "                       random_state=None, splitter='best')"
            ]
          },
          "metadata": {
            "tags": []
          },
          "execution_count": 327
        }
      ]
    },
    {
      "cell_type": "code",
      "metadata": {
        "id": "3bO14G_XGH69",
        "outputId": "8f90dff2-6f59-4302-9703-e5c151bd70a1",
        "colab": {
          "base_uri": "https://localhost:8080/"
        }
      },
      "source": [
        "y_pred = dtc.predict(x_te)\n",
        "accuracy_score(y_te, y_pred)"
      ],
      "execution_count": 328,
      "outputs": [
        {
          "output_type": "execute_result",
          "data": {
            "text/plain": [
              "0.5390367275126458"
            ]
          },
          "metadata": {
            "tags": []
          },
          "execution_count": 328
        }
      ]
    }
  ]
}