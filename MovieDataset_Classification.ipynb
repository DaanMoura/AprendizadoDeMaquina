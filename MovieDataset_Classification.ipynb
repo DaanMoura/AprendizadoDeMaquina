{
  "nbformat": 4,
  "nbformat_minor": 0,
  "metadata": {
    "colab": {
      "name": "MovieDataset-Classification.ipynb",
      "provenance": [],
      "collapsed_sections": [],
      "include_colab_link": true
    },
    "kernelspec": {
      "name": "python3",
      "display_name": "Python 3"
    }
  },
  "cells": [
    {
      "cell_type": "markdown",
      "metadata": {
        "id": "view-in-github",
        "colab_type": "text"
      },
      "source": [
        "<a href=\"https://colab.research.google.com/github/DaanMoura/AprendizadoDeMaquina/blob/main/MovieDataset_Classification.ipynb\" target=\"_parent\"><img src=\"https://colab.research.google.com/assets/colab-badge.svg\" alt=\"Open In Colab\"/></a>"
      ]
    },
    {
      "cell_type": "code",
      "metadata": {
        "id": "ZsPsBUwSgtk3"
      },
      "source": [
        "\n",
        "import pandas as pd\n",
        "import matplotlib.pyplot as plt\n",
        "import numpy as np\n",
        "from sklearn.tree import DecisionTreeClassifier\n",
        "from sklearn.model_selection import train_test_split, cross_val_score, GridSearchCV\n",
        "from sklearn.metrics import accuracy_score\n",
        "from sklearn.metrics import plot_confusion_matrix\n",
        "import copy"
      ],
      "execution_count": 22,
      "outputs": []
    },
    {
      "cell_type": "code",
      "metadata": {
        "colab": {
          "base_uri": "https://localhost:8080/"
        },
        "id": "G7s5UtuVg9FW",
        "outputId": "d35e9886-47bb-49cd-cd3b-a9b506534ca3"
      },
      "source": [
        "dataset = pd.read_csv(\"https://raw.githubusercontent.com/DaanMoura/AprendizadoDeMaquina/main/data/movies.csv\")"
      ],
      "execution_count": 2,
      "outputs": [
        {
          "output_type": "stream",
          "text": [
            "/usr/local/lib/python3.6/dist-packages/IPython/core/interactiveshell.py:2718: DtypeWarning: Columns (10) have mixed types.Specify dtype option on import or set low_memory=False.\n",
            "  interactivity=interactivity, compiler=compiler, result=result)\n"
          ],
          "name": "stderr"
        }
      ]
    },
    {
      "cell_type": "code",
      "metadata": {
        "id": "yXU7a7W9gEun"
      },
      "source": [
        "def get_date_year(date_column):\r\n",
        "  try:\r\n",
        "    return date_column.split('-')[0]\r\n",
        "  except:\r\n",
        "    return -1\r\n",
        "\r\n",
        "def get_date_month(date_column):\r\n",
        "  try:\r\n",
        "    return date_column.split('-')[1]\r\n",
        "  except:\r\n",
        "    return -1"
      ],
      "execution_count": 3,
      "outputs": []
    },
    {
      "cell_type": "code",
      "metadata": {
        "id": "RaX5XaW8f4JW"
      },
      "source": [
        "dataset['release_year'] = pd.Series(list(map(get_date_year, dataset[\"release_date\"].tolist())))\r\n",
        "dataset['release_month'] = pd.Series(list(map(get_date_month, dataset[\"release_date\"].tolist())))"
      ],
      "execution_count": 4,
      "outputs": []
    },
    {
      "cell_type": "code",
      "metadata": {
        "id": "ylw76dFpiQpL"
      },
      "source": [
        "dataset.drop([\"adult\", \"belongs_to_collection\", \"homepage\", \"id\", \"imdb_id\", \"original_title\", \"overview\", \"poster_path\", \"tagline\", \"title\", \"video\",\"spoken_languages\",\"release_date\"], axis=1,inplace=True)\n",
        "df = dataset.copy()"
      ],
      "execution_count": 5,
      "outputs": []
    },
    {
      "cell_type": "code",
      "metadata": {
        "id": "tPyoKI7ymTGB"
      },
      "source": [
        "def get_first(o):\n",
        "  try:\n",
        "    return o.split(',')[0].split(':')[1].strip().strip(\"'\")\n",
        "  except:\n",
        "    return -1\n",
        "  "
      ],
      "execution_count": 6,
      "outputs": []
    },
    {
      "cell_type": "code",
      "metadata": {
        "id": "h7YgvZ98krtC"
      },
      "source": [
        "def get_first_number(o):\r\n",
        "  try:\r\n",
        "    id = o.split(',')[0].split(':')[1].strip().strip(\"'\")\r\n",
        "    if str(id).isnumeric():\r\n",
        "      return id\r\n",
        "    else:\r\n",
        "      return -1\r\n",
        "  except:\r\n",
        "    return -1"
      ],
      "execution_count": 7,
      "outputs": []
    },
    {
      "cell_type": "code",
      "metadata": {
        "colab": {
          "base_uri": "https://localhost:8080/"
        },
        "id": "wCVprKXOjSfC",
        "outputId": "b3af1417-424c-473a-f26b-7c1edfa8044d"
      },
      "source": [
        "pd.set_option('display.max_colwidth', -1)\n",
        "df[\"production_companies\"] = pd.Series(list(map(get_first, df[\"production_companies\"].tolist())))\n",
        "df[\"production_countries\"] = pd.Series(list(map(get_first, df[\"production_countries\"].tolist())))\n",
        "df[\"genres\"] = pd.Series(list(map(get_first_number, df[\"genres\"].tolist())))"
      ],
      "execution_count": 8,
      "outputs": [
        {
          "output_type": "stream",
          "text": [
            "/usr/local/lib/python3.6/dist-packages/ipykernel_launcher.py:1: FutureWarning: Passing a negative integer is deprecated in version 1.0 and will not be supported in future version. Instead, use None to not limit the column width.\n",
            "  \"\"\"Entry point for launching an IPython kernel.\n"
          ],
          "name": "stderr"
        }
      ]
    },
    {
      "cell_type": "code",
      "metadata": {
        "id": "jKQOwyKEVDIs"
      },
      "source": [
        "colunas = [\"original_language\",\"production_companies\",\"production_countries\"]"
      ],
      "execution_count": 9,
      "outputs": []
    },
    {
      "cell_type": "code",
      "metadata": {
        "id": "wnaFg3IzafLG"
      },
      "source": [
        "labels, levels = pd.factorize(df['production_companies'])"
      ],
      "execution_count": 10,
      "outputs": []
    },
    {
      "cell_type": "code",
      "metadata": {
        "id": "ihsjVZNmamZG"
      },
      "source": [
        "string_columns = ['original_language','production_companies','production_countries','status']\r\n",
        "\r\n",
        "for column in string_columns:\r\n",
        "  labels, levels = pd.factorize(df[column])\r\n",
        "  df[column] = labels"
      ],
      "execution_count": 11,
      "outputs": []
    },
    {
      "cell_type": "code",
      "metadata": {
        "id": "V8e8vfkpmypy"
      },
      "source": [
        "df = df.apply(pd.to_numeric, errors='coerce')\r\n",
        "df = df.fillna(-1)"
      ],
      "execution_count": 12,
      "outputs": []
    },
    {
      "cell_type": "code",
      "metadata": {
        "id": "YwKowDxui41h",
        "colab": {
          "base_uri": "https://localhost:8080/"
        },
        "outputId": "e345b7cc-d831-4fe5-c5b4-938b0e30986d"
      },
      "source": [
        "#separa o alvo e os dados\r\n",
        "Y = df[\"vote_average\"]\r\n",
        "for i in range(len(Y)):\r\n",
        "  if Y[i] < 2:\r\n",
        "    Y[i] = 1\r\n",
        "  elif Y[i] < 4:\r\n",
        "    Y[i] = 2\r\n",
        "  elif Y[i] < 6:\r\n",
        "    Y[i] = 3\r\n",
        "  elif Y[i] < 8:\r\n",
        "    Y[i] = 4\r\n",
        "  else:\r\n",
        "    Y[i] = 5\r\n",
        "\r\n",
        "X = df.drop([\"vote_average\"], axis = 1)"
      ],
      "execution_count": 13,
      "outputs": [
        {
          "output_type": "stream",
          "text": [
            "/usr/local/lib/python3.6/dist-packages/ipykernel_launcher.py:11: SettingWithCopyWarning: \n",
            "A value is trying to be set on a copy of a slice from a DataFrame\n",
            "\n",
            "See the caveats in the documentation: https://pandas.pydata.org/pandas-docs/stable/user_guide/indexing.html#returning-a-view-versus-a-copy\n",
            "  # This is added back by InteractiveShellApp.init_path()\n",
            "/usr/local/lib/python3.6/dist-packages/ipykernel_launcher.py:9: SettingWithCopyWarning: \n",
            "A value is trying to be set on a copy of a slice from a DataFrame\n",
            "\n",
            "See the caveats in the documentation: https://pandas.pydata.org/pandas-docs/stable/user_guide/indexing.html#returning-a-view-versus-a-copy\n",
            "  if __name__ == '__main__':\n",
            "/usr/local/lib/python3.6/dist-packages/ipykernel_launcher.py:7: SettingWithCopyWarning: \n",
            "A value is trying to be set on a copy of a slice from a DataFrame\n",
            "\n",
            "See the caveats in the documentation: https://pandas.pydata.org/pandas-docs/stable/user_guide/indexing.html#returning-a-view-versus-a-copy\n",
            "  import sys\n",
            "/usr/local/lib/python3.6/dist-packages/ipykernel_launcher.py:13: SettingWithCopyWarning: \n",
            "A value is trying to be set on a copy of a slice from a DataFrame\n",
            "\n",
            "See the caveats in the documentation: https://pandas.pydata.org/pandas-docs/stable/user_guide/indexing.html#returning-a-view-versus-a-copy\n",
            "  del sys.path[0]\n",
            "/usr/local/lib/python3.6/dist-packages/ipykernel_launcher.py:5: SettingWithCopyWarning: \n",
            "A value is trying to be set on a copy of a slice from a DataFrame\n",
            "\n",
            "See the caveats in the documentation: https://pandas.pydata.org/pandas-docs/stable/user_guide/indexing.html#returning-a-view-versus-a-copy\n",
            "  \"\"\"\n"
          ],
          "name": "stderr"
        }
      ]
    },
    {
      "cell_type": "code",
      "metadata": {
        "id": "0KHjHT0qqSmz"
      },
      "source": [
        "#/zV8bHuSL6WXoD6FWogP9j4x80bL.jpg'\r\n",
        "dataset.drop([29503],axis=0,inplace=True)\r\n"
      ],
      "execution_count": 14,
      "outputs": []
    },
    {
      "cell_type": "code",
      "metadata": {
        "id": "UMB-V5jXiB3j"
      },
      "source": [
        "#separa em teste e treino\r\n",
        "x_tr, x_te, y_tr, y_te = train_test_split(X, Y, test_size = 0.2, random_state = 42)"
      ],
      "execution_count": 15,
      "outputs": []
    },
    {
      "cell_type": "code",
      "metadata": {
        "id": "2-Hl0lhl0Xt_"
      },
      "source": [
        "def apply_grid_search(classifier, paramgrid):\n",
        "  gs = GridSearchCV(classifier, param_grid=param_grid)\n",
        "  gs.fit(x_tr,y_tr)\n",
        "  print(gs.best_estimator_)\n",
        "  return gs.best_estimator_"
      ],
      "execution_count": 30,
      "outputs": []
    },
    {
      "cell_type": "code",
      "metadata": {
        "id": "NIV9zbGS0kMF"
      },
      "source": [
        "def fit_model(classifier):\n",
        "  model = classifier.fit(x_tr, y_tr)\n",
        "  y_pred = classifier.predict(x_te)\n",
        "  print(accuracy_score(y_te, y_pred))\n",
        "  return model"
      ],
      "execution_count": 31,
      "outputs": []
    },
    {
      "cell_type": "code",
      "metadata": {
        "id": "YV57RFW91IBr"
      },
      "source": [
        "def confusion_matrix(model):\n",
        "  titles_options = [(\"Confusion matrix, without normalization\", None),\n",
        "                  (\"Normalized confusion matrix\", 'true')]\n",
        "  for title, normalize in titles_options:\n",
        "    disp = plot_confusion_matrix(model, x_te, y_te,\n",
        "                                 cmap=plt.cm.Blues,\n",
        "                                 normalize=normalize)\n",
        "    disp.ax_.set_title(title)"
      ],
      "execution_count": 32,
      "outputs": []
    },
    {
      "cell_type": "code",
      "metadata": {
        "id": "_-OHLyyj1vIc",
        "outputId": "e29c9ba7-3f79-44f8-9082-99f7024ea574",
        "colab": {
          "base_uri": "https://localhost:8080/"
        }
      },
      "source": [
        "fit_model(DecisionTreeClassifier())"
      ],
      "execution_count": 33,
      "outputs": [
        {
          "output_type": "stream",
          "text": [
            "0.5404662414778976\n"
          ],
          "name": "stdout"
        },
        {
          "output_type": "execute_result",
          "data": {
            "text/plain": [
              "DecisionTreeClassifier(ccp_alpha=0.0, class_weight=None, criterion='gini',\n",
              "                       max_depth=None, max_features=None, max_leaf_nodes=None,\n",
              "                       min_impurity_decrease=0.0, min_impurity_split=None,\n",
              "                       min_samples_leaf=1, min_samples_split=2,\n",
              "                       min_weight_fraction_leaf=0.0, presort='deprecated',\n",
              "                       random_state=None, splitter='best')"
            ]
          },
          "metadata": {
            "tags": []
          },
          "execution_count": 33
        }
      ]
    },
    {
      "cell_type": "markdown",
      "metadata": {
        "id": "P9R7AxrNl8zX"
      },
      "source": [
        "Hyperparams estimators"
      ]
    },
    {
      "cell_type": "code",
      "metadata": {
        "id": "e3wp3aVMl7l9"
      },
      "source": [
        "param_grid = {'criterion': ['entropy', 'gini'],\n",
        "              'max_depth': range(2,30,2),\n",
        "              'min_samples_leaf': range(2,10,2),\n",
        "              'min_impurity_decrease': np.linspace(0,0.5,10)}"
      ],
      "execution_count": 18,
      "outputs": []
    },
    {
      "cell_type": "code",
      "metadata": {
        "id": "RdOS2FpC16Xn"
      },
      "source": [
        "apply_grid_search(DecisionTreeClassifier(), param_grid)"
      ],
      "execution_count": null,
      "outputs": []
    },
    {
      "cell_type": "code",
      "metadata": {
        "id": "Gc8xqmGdmTls"
      },
      "source": [
        "gs.best_estimator_"
      ],
      "execution_count": null,
      "outputs": []
    },
    {
      "cell_type": "code",
      "metadata": {
        "id": "o0mHzO8hogFC",
        "colab": {
          "base_uri": "https://localhost:8080/"
        },
        "outputId": "cb2a00c1-d89d-4e37-a0c1-9e042d62fc34"
      },
      "source": [
        "dtc = DecisionTreeClassifier(ccp_alpha=0.0, class_weight=None, criterion='entropy',\n",
        "                       max_depth=10, max_features=None, max_leaf_nodes=None,\n",
        "                       min_impurity_decrease=0.0, min_impurity_split=None,\n",
        "                       min_samples_leaf=2, min_samples_split=2,\n",
        "                       min_weight_fraction_leaf=0.0, presort='deprecated',\n",
        "                       random_state=None, splitter='best')\n",
        "classifier = dtc.fit(x_tr, y_tr)\n",
        "y_pred = dtc.predict(x_te)\n",
        "accuracy_score(y_te, y_pred)"
      ],
      "execution_count": 20,
      "outputs": [
        {
          "output_type": "execute_result",
          "data": {
            "text/plain": [
              "0.6211787992082692"
            ]
          },
          "metadata": {
            "tags": []
          },
          "execution_count": 20
        }
      ]
    },
    {
      "cell_type": "code",
      "metadata": {
        "id": "TrmnPPNstH7r",
        "outputId": "b381fd96-d29f-4489-e2f7-7ead6ba12dfc",
        "colab": {
          "base_uri": "https://localhost:8080/",
          "height": 573
        }
      },
      "source": [
        "titles_options = [(\"Confusion matrix, without normalization\", None),\n",
        "                  (\"Normalized confusion matrix\", 'true')]\n",
        "for title, normalize in titles_options:\n",
        "    disp = plot_confusion_matrix(classifier, x_te, y_te,\n",
        "                                 cmap=plt.cm.Blues,\n",
        "                                 normalize=normalize)\n",
        "    disp.ax_.set_title(title)\n"
      ],
      "execution_count": 25,
      "outputs": [
        {
          "output_type": "display_data",
          "data": {
            "image/png": "[encoded data removed]",
            "text/plain": [
              "<Figure size 432x288 with 2 Axes>"
            ]
          },
          "metadata": {
            "tags": [],
            "needs_background": "light"
          }
        },
        {
          "output_type": "display_data",
          "data": {
            "image/png": "[encoded data removed]",
            "text/plain": [
              "<Figure size 432x288 with 2 Axes>"
            ]
          },
          "metadata": {
            "tags": [],
            "needs_background": "light"
          }
        }
      ]
    },
    {
      "cell_type": "markdown",
      "metadata": {
        "id": "Qk0Tzfl4v_OL"
      },
      "source": [
        "With stratify"
      ]
    },
    {
      "cell_type": "code",
      "metadata": {
        "id": "Ghgn4yJxty8s"
      },
      "source": [
        "x_tr, x_te, y_tr, y_te = train_test_split(X, Y, test_size = 0.2, stratify=Y, random_state = 42)"
      ],
      "execution_count": 26,
      "outputs": []
    },
    {
      "cell_type": "code",
      "metadata": {
        "id": "8FYGaneawZ0C",
        "outputId": "57db3982-a6c3-4160-aeb5-6b56a03b58ab",
        "colab": {
          "base_uri": "https://localhost:8080/"
        }
      },
      "source": [
        "param_grid = {'criterion': ['entropy', 'gini'],\n",
        "              'max_depth': range(2,30,2),\n",
        "              'min_samples_leaf': range(2,10,2),\n",
        "              'min_impurity_decrease': np.linspace(0,0.5,10)}\n",
        "\n",
        "dtc = DecisionTreeClassifier()\n",
        "gs = GridSearchCV(dtc, param_grid=param_grid)\n",
        "gs.fit(x_tr,y_tr)\n",
        "\n",
        "gs.best_estimator_"
      ],
      "execution_count": 27,
      "outputs": [
        {
          "output_type": "execute_result",
          "data": {
            "text/plain": [
              "DecisionTreeClassifier(ccp_alpha=0.0, class_weight=None, criterion='gini',\n",
              "                       max_depth=10, max_features=None, max_leaf_nodes=None,\n",
              "                       min_impurity_decrease=0.0, min_impurity_split=None,\n",
              "                       min_samples_leaf=2, min_samples_split=2,\n",
              "                       min_weight_fraction_leaf=0.0, presort='deprecated',\n",
              "                       random_state=None, splitter='best')"
            ]
          },
          "metadata": {
            "tags": []
          },
          "execution_count": 27
        }
      ]
    },
    {
      "cell_type": "code",
      "metadata": {
        "id": "0R3dhJtPwqu9",
        "outputId": "2970174a-f182-4b43-a4a5-b07d21885215",
        "colab": {
          "base_uri": "https://localhost:8080/"
        }
      },
      "source": [
        "dtc = DecisionTreeClassifier(ccp_alpha=0.0, class_weight=None, criterion='gini',\n",
        "                       max_depth=10, max_features=None, max_leaf_nodes=None,\n",
        "                       min_impurity_decrease=0.0, min_impurity_split=None,\n",
        "                       min_samples_leaf=2, min_samples_split=2,\n",
        "                       min_weight_fraction_leaf=0.0, presort='deprecated',\n",
        "                       random_state=None, splitter='best')\n",
        "classifier = dtc.fit(x_tr, y_tr)\n",
        "y_pred = dtc.predict(x_te)\n",
        "accuracy_score(y_te, y_pred)"
      ],
      "execution_count": 28,
      "outputs": [
        {
          "output_type": "execute_result",
          "data": {
            "text/plain": [
              "0.6074334726193095"
            ]
          },
          "metadata": {
            "tags": []
          },
          "execution_count": 28
        }
      ]
    },
    {
      "cell_type": "code",
      "metadata": {
        "id": "Qq6FalVRwsGT",
        "outputId": "47955c47-1140-4aa5-ad98-ff0be4a681b5",
        "colab": {
          "base_uri": "https://localhost:8080/",
          "height": 573
        }
      },
      "source": [
        "titles_options = [(\"Confusion matrix, without normalization\", None),\n",
        "                  (\"Normalized confusion matrix\", 'true')]\n",
        "for title, normalize in titles_options:\n",
        "    disp = plot_confusion_matrix(classifier, x_te, y_te,\n",
        "                                 cmap=plt.cm.Blues,\n",
        "                                 normalize=normalize)\n",
        "    disp.ax_.set_title(title)"
      ],
      "execution_count": 29,
      "outputs": [
        {
          "output_type": "display_data",
          "data": {
            "image/png": "[encoded data removed]",
            "text/plain": [
              "<Figure size 432x288 with 2 Axes>"
            ]
          },
          "metadata": {
            "tags": [],
            "needs_background": "light"
          }
        },
        {
          "output_type": "display_data",
          "data": {
            "image/png": "[encoded data removed]",
            "text/plain": [
              "<Figure size 432x288 with 2 Axes>"
            ]
          },
          "metadata": {
            "tags": [],
            "needs_background": "light"
          }
        }
      ]
    },
    {
      "cell_type": "code",
      "metadata": {
        "id": "K0-dDV7yw-0D"
      },
      "source": [
        ""
      ],
      "execution_count": null,
      "outputs": []
    }
  ]
}